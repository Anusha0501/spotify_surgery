{
  "cells": [
    {
      "cell_type": "code",
      "execution_count": null,
      "metadata": {
        "colab": {
          "base_uri": "https://localhost:8080/"
        },
        "id": "32cj7aPqrGQm",
        "outputId": "cc5dfc81-c4ad-4aec-c58b-36e8d870e500"
      },
      "outputs": [
        {
          "output_type": "stream",
          "name": "stdout",
          "text": [
            "Collecting spotipy\n",
            "  Downloading spotipy-2.25.0-py3-none-any.whl.metadata (4.7 kB)\n",
            "Collecting redis>=3.5.3 (from spotipy)\n",
            "  Downloading redis-5.2.1-py3-none-any.whl.metadata (9.1 kB)\n",
            "Requirement already satisfied: requests>=2.25.0 in /usr/local/lib/python3.10/dist-packages (from spotipy) (2.32.3)\n",
            "Requirement already satisfied: urllib3>=1.26.0 in /usr/local/lib/python3.10/dist-packages (from spotipy) (2.3.0)\n",
            "Requirement already satisfied: async-timeout>=4.0.3 in /usr/local/lib/python3.10/dist-packages (from redis>=3.5.3->spotipy) (4.0.3)\n",
            "Requirement already satisfied: charset-normalizer<4,>=2 in /usr/local/lib/python3.10/dist-packages (from requests>=2.25.0->spotipy) (3.4.1)\n",
            "Requirement already satisfied: idna<4,>=2.5 in /usr/local/lib/python3.10/dist-packages (from requests>=2.25.0->spotipy) (3.10)\n",
            "Requirement already satisfied: certifi>=2017.4.17 in /usr/local/lib/python3.10/dist-packages (from requests>=2.25.0->spotipy) (2024.12.14)\n",
            "Downloading spotipy-2.25.0-py3-none-any.whl (30 kB)\n",
            "Downloading redis-5.2.1-py3-none-any.whl (261 kB)\n",
            "\u001b[2K   \u001b[90m━━━━━━━━━━━━━━━━━━━━━━━━━━━━━━━━━━━━━━━━\u001b[0m \u001b[32m261.5/261.5 kB\u001b[0m \u001b[31m6.7 MB/s\u001b[0m eta \u001b[36m0:00:00\u001b[0m\n",
            "\u001b[?25hInstalling collected packages: redis, spotipy\n",
            "Successfully installed redis-5.2.1 spotipy-2.25.0\n"
          ]
        }
      ],
      "source": [
        "pip install spotipy\n"
      ]
    },
    {
      "cell_type": "code",
      "execution_count": null,
      "metadata": {
        "id": "dOcRpM0oscMD"
      },
      "outputs": [],
      "source": [
        "import spotipy\n",
        "from spotipy.oauth2 import SpotifyOAuth"
      ]
    },
    {
      "cell_type": "code",
      "execution_count": null,
      "metadata": {
        "id": "0p7-lj87t0Kp"
      },
      "outputs": [],
      "source": [
        "# Spotify API credentials\n",
        "SPOTIFY_CLIENT_ID = \"enter your client id\"  # Replace with your Client ID\n",
        "SPOTIFY_CLIENT_SECRET = \"enter your client secret\"  # Replace with your Client Secret\n",
        "SPOTIFY_REDIRECT_URI = \"https://example.com/callback\"  # Redirect URI for Colab"
      ]
    },
    {
      "cell_type": "code",
      "execution_count": null,
      "metadata": {
        "id": "SGcUV2A2CfTm",
        "colab": {
          "base_uri": "https://localhost:8080/"
        },
        "outputId": "6e386b7f-a3ae-4acb-9833-887ef280cd27"
      },
      "outputs": [
        {
          "output_type": "stream",
          "name": "stdout",
          "text": [
            "Go to the following URL and log in to Spotify: https://accounts.spotify.com/authorize?client_id=93d0b6149dc74044925aa97027de75b0&response_type=code&redirect_uri=https%3A%2F%2Fexample.com%2Fcallback&scope=user-top-read+playlist-modify-public+playlist-modify-private\n",
            "Paste the full redirected URL here: https://example.com/callback?code=AQB9OS4pxeHDp8n0AqDG-6WvaAv16_-RaP8NIMGJIrb-Mgqi2H7krbaa9u1wC517hAQe9B61-1yklSdRAOQUtjkdFruk1E7qPoD97FYiW8qxKoGEgxpe04smqToUhHvZ6hKY8oAcRAINTW-VET0XbO_GH1ETP_290RoRIGcBI9xbtvZq2RqxbdJC6E9mWnmn77ydJVQsSghAFuDuWqXu66koQs5aSsw5i-fdzmN9KwQaAHgAaOnNpE-fpq9j5xO4\n",
            "Authentication successful!\n"
          ]
        }
      ],
      "source": [
        "# Define the updated scope\n",
        "scope = \"user-top-read playlist-modify-public playlist-modify-private\"\n",
        "\n",
        "# Initialize SpotifyOAuth object with updated scope\n",
        "auth_manager = SpotifyOAuth(client_id=SPOTIFY_CLIENT_ID,\n",
        "                             client_secret=SPOTIFY_CLIENT_SECRET,\n",
        "                             redirect_uri=SPOTIFY_REDIRECT_URI,\n",
        "                             scope=scope)\n",
        "\n",
        "# Step 1: Generate the authorization URL\n",
        "auth_url = auth_manager.get_authorize_url()\n",
        "print(f\"Go to the following URL and log in to Spotify: {auth_url}\")\n",
        "\n",
        "# Step 2: Manually paste the redirected URL\n",
        "redirected_url = input(\"Paste the full redirected URL here: \")\n",
        "\n",
        "# Step 3: Get the access token using the redirected URL\n",
        "code = auth_manager.parse_response_code(redirected_url)\n",
        "token_info = auth_manager.get_access_token(code, as_dict=False)\n",
        "\n",
        "# Initialize Spotipy client with the new access token\n",
        "sp = spotipy.Spotify(auth_manager=auth_manager)\n",
        "\n",
        "print(\"Authentication successful!\")\n"
      ]
    },
    {
      "cell_type": "code",
      "execution_count": null,
      "metadata": {
        "id": "peICqsx4vLB8"
      },
      "outputs": [],
      "source": [
        "# Fetch top tracks from the past month\n",
        "def get_top_tracks():\n",
        "    print(\"Fetching your top tracks for the past month...\")\n",
        "    results = sp.current_user_top_tracks(limit=20, time_range=\"short_term\")\n",
        "    track_data = []\n",
        "\n",
        "    for item in results['items']:\n",
        "        track_name = item['name']\n",
        "        artist_name = \", \".join([artist['name'] for artist in item['artists']])\n",
        "        track_data.append((track_name, artist_name, item['uri']))  # Track name, artist, and URI\n",
        "\n",
        "    return track_data\n",
        "\n",
        "\n"
      ]
    },
    {
      "cell_type": "code",
      "execution_count": null,
      "metadata": {
        "id": "n3FKuDTjvQQk"
      },
      "outputs": [],
      "source": [
        "# Create a playlist and add top tracks\n",
        "def create_playlist_with_top_tracks(track_data, playlist_name=\"Top Tracks of the Month\"):\n",
        "    print(\"Creating a new playlist...\")\n",
        "    user_id = sp.me()['id']\n",
        "    playlist = sp.user_playlist_create(user_id, playlist_name, public=False)\n",
        "    playlist_id = playlist['id']\n",
        "\n",
        "    track_uris = [uri for _, _, uri in track_data]\n",
        "\n",
        "    print(f\"Adding {len(track_uris)} tracks to the playlist '{playlist_name}'...\")\n",
        "    sp.playlist_add_items(playlist_id, track_uris)\n",
        "    print(f\"Playlist '{playlist_name}' created successfully!\")\n",
        "\n"
      ]
    },
    {
      "cell_type": "code",
      "execution_count": null,
      "metadata": {
        "colab": {
          "base_uri": "https://localhost:8080/"
        },
        "id": "Zy_R9BytvTZ4",
        "outputId": "636ecf56-c0dd-421e-8332-7c7f1ac2ae4f"
      },
      "outputs": [
        {
          "output_type": "stream",
          "name": "stdout",
          "text": [
            "Fetching your top tracks for the past month...\n",
            "Creating a new playlist...\n",
            "Adding 20 tracks to the playlist 'Top Tracks of the Month'...\n",
            "Playlist 'Top Tracks of the Month' created successfully!\n"
          ]
        }
      ],
      "source": [
        "# Main workflow\n",
        "if __name__ == \"__main__\":\n",
        "    top_tracks = get_top_tracks()\n",
        "    create_playlist_with_top_tracks(top_tracks)"
      ]
    }
  ],
  "metadata": {
    "colab": {
      "provenance": []
    },
    "kernelspec": {
      "display_name": "Python 3",
      "name": "python3"
    },
    "language_info": {
      "name": "python"
    }
  },
  "nbformat": 4,
  "nbformat_minor": 0
}